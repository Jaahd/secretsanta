{
 "cells": [
  {
   "cell_type": "code",
   "execution_count": 1,
   "metadata": {},
   "outputs": [],
   "source": [
    "import random\n",
    "from secretsanta import *"
   ]
  },
  {
   "cell_type": "markdown",
   "metadata": {},
   "source": [
    "## Generating the list"
   ]
  },
  {
   "cell_type": "markdown",
   "metadata": {},
   "source": [
    "#### List of names for the draw and associated contacts (email, skype, slack...)"
   ]
  },
  {
   "cell_type": "code",
   "execution_count": 2,
   "metadata": {},
   "outputs": [],
   "source": [
    "names = [\"Bill\",\"Bob\",\"Alice\",\"Charlie A\",\"Timmy\",\"Charlie B\",\"Dave\"]\n",
    "contacts = [\"billy@bob.com\",\"bob@billy.com\",\"alice@wonderland.biz\",\"charlie.thefirsttwin@email.com\",\"tim@tom.tam\",\"charlie.thesecondtwin@email.com\",\"david@d.de\"]"
   ]
  },
  {
   "cell_type": "markdown",
   "metadata": {},
   "source": [
    "#### Any excluded pairings? (spouses, siblings, people already giving gifts...)"
   ]
  },
  {
   "cell_type": "code",
   "execution_count": 3,
   "metadata": {},
   "outputs": [],
   "source": [
    "exclusions = [[\"Bill\",\"Bob\"],[\"Charlie A\",\"Charlie B\"],[\"Bob\",\"Dave\"]]"
   ]
  },
  {
   "cell_type": "markdown",
   "metadata": {},
   "source": [
    "#### Tell Santa all this information"
   ]
  },
  {
   "cell_type": "code",
   "execution_count": 4,
   "metadata": {},
   "outputs": [],
   "source": [
    "persons = make_dict_of_persons(names,contacts,exclusions)\n",
    "santa = Santa(persons)"
   ]
  },
  {
   "cell_type": "markdown",
   "metadata": {},
   "source": [
    "#### Let's have a look at this data"
   ]
  },
  {
   "cell_type": "code",
   "execution_count": 5,
   "metadata": {},
   "outputs": [
    {
     "name": "stdout",
     "output_type": "stream",
     "text": [
      "alice@wonderland.biz\n",
      "[Bill, Dave]\n"
     ]
    }
   ],
   "source": [
    "print(persons['Alice'].contact)\n",
    "print(persons['Bob'].exclusions)"
   ]
  },
  {
   "cell_type": "markdown",
   "metadata": {},
   "source": [
    "#### Santa makes a list"
   ]
  },
  {
   "cell_type": "code",
   "execution_count": 6,
   "metadata": {},
   "outputs": [
    {
     "name": "stdout",
     "output_type": "stream",
     "text": [
      "Assigned gifts:\n",
      "Bill ==> Charlie B\n",
      "Bob ==> Charlie A\n",
      "Alice ==> Dave\n",
      "Charlie A ==> Timmy\n",
      "Timmy ==> Bob\n",
      "Charlie B ==> Alice\n",
      "Dave ==> Bill\n"
     ]
    }
   ],
   "source": [
    "random.seed(123456789) # Optionally seed the RNG with an integer \n",
    "gifts = santa.make_a_list()\n",
    "santa.display() # If you want to keep it secret from yourself, don't run this!"
   ]
  },
  {
   "cell_type": "markdown",
   "metadata": {},
   "source": [
    "## Email each person the recipient for their gift"
   ]
  },
  {
   "cell_type": "markdown",
   "metadata": {},
   "source": [
    "#### Custom body for email"
   ]
  },
  {
   "cell_type": "code",
   "execution_count": 7,
   "metadata": {},
   "outputs": [],
   "source": [
    "message = \"\"\"\\\n",
    "Subject: Secret santa - your giftee\n",
    "Hi {name},\n",
    "\n",
    "Your secret santa has been drawn! You have been assigned to give a gift to: {gift_reciever}\n",
    "\n",
    "This secret santa has been organised by a computer https://github.com/gdold/secretsanta\n",
    "\n",
    "Have a great solstice!\"\"\""
   ]
  },
  {
   "cell_type": "markdown",
   "metadata": {},
   "source": [
    "#### Send messages"
   ]
  },
  {
   "cell_type": "code",
   "execution_count": 8,
   "metadata": {},
   "outputs": [
    {
     "name": "stdout",
     "output_type": "stream",
     "text": [
      "This will send the assigned secret santas to the gifters via email.\n",
      "You will be asked to confirm before the messages are sent.\n"
     ]
    },
    {
     "name": "stdin",
     "output_type": "stream",
     "text": [
      "Type the smtp.gmail.com email address to send from and press enter:  test@gmail.com\n",
      "Type your password and press enter:  ········\n"
     ]
    },
    {
     "name": "stdout",
     "output_type": "stream",
     "text": [
      "\n",
      "PREVIEW OF MESSAGE:\n",
      "========\n",
      "Subject: Secret santa - your giftee\n",
      "Hi {name},\n",
      "\n",
      "Your secret santa has been drawn! You have been assigned to give a gift to: {gift_reciever}\n",
      "\n",
      "This secret santa has been organised by a computer https://github.com/gdold/secretsanta\n",
      "\n",
      "Have a great solstice!\n",
      "========\n",
      "\n",
      "\n",
      "THIS MESSAGE WILL BE FORMATTED AND SENT TO:\n",
      "Bill <billy@bob.com>\n",
      "Bob <bob@billy.com>\n",
      "Alice <alice@wonderland.biz>\n",
      "Charlie A <charlie.thefirsttwin@email.com>\n",
      "Timmy <tim@tom.tam>\n",
      "Charlie B <charlie.thesecondtwin@email.com>\n",
      "Dave <david@d.de>\n"
     ]
    },
    {
     "name": "stdin",
     "output_type": "stream",
     "text": [
      "\n",
      "Proceed? [y/n]:  n\n"
     ]
    },
    {
     "name": "stdout",
     "output_type": "stream",
     "text": [
      "Emails not sent.\n"
     ]
    }
   ],
   "source": [
    "smtp_server = 'smtp.gmail.com'\n",
    "elves = Elves(persons,gifts,message,smtp_server)\n",
    "elves.send_email()"
   ]
  }
 ],
 "metadata": {
  "kernelspec": {
   "display_name": "Python 3",
   "language": "python",
   "name": "python3"
  },
  "language_info": {
   "codemirror_mode": {
    "name": "ipython",
    "version": 3
   },
   "file_extension": ".py",
   "mimetype": "text/x-python",
   "name": "python",
   "nbconvert_exporter": "python",
   "pygments_lexer": "ipython3",
   "version": "3.7.3"
  }
 },
 "nbformat": 4,
 "nbformat_minor": 4
}
