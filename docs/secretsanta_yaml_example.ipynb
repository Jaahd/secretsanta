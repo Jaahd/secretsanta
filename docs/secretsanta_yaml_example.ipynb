{
 "cells": [
  {
   "cell_type": "code",
   "execution_count": 1,
   "metadata": {},
   "outputs": [],
   "source": [
    "import yaml\n",
    "import random\n",
    "from secretsanta import *"
   ]
  },
  {
   "cell_type": "markdown",
   "metadata": {},
   "source": [
    "## Import YAML data\n",
    "(this is done automatically if you run secretsanta.py directly)"
   ]
  },
  {
   "cell_type": "code",
   "execution_count": 2,
   "metadata": {},
   "outputs": [],
   "source": [
    "with open('secretsanta.yml', 'r') as yaml_file:\n",
    "    data = yaml.load(yaml_file,Loader=yaml.BaseLoader)\n",
    "\n",
    "# Parse YAML file\n",
    "names = []\n",
    "contacts = []\n",
    "for name in data['NAMES']:\n",
    "    if ',' in name:\n",
    "        split_name = name.split(',')\n",
    "        names.append(split_name[0].strip())\n",
    "        contacts.append(split_name[1].strip())\n",
    "exclusions = []\n",
    "for pair in data['EXCLUDE']:\n",
    "    if ',' in pair:\n",
    "        split_exclusion = pair.split(',')\n",
    "        split_exclusion = list(map(str.strip, split_exclusion))\n",
    "        exclusions.append(split_exclusion)\n",
    "exclude_both_ways = data['EXCLUDE_BOTH_WAYS'] in ['true', 'True', 'yes', 'Yes']\n",
    "message = data['MESSAGE']\n",
    "subject = data['SUBJECT']\n",
    "message = \"Subject:{subject}\\n{message}\".format(subject=subject,message=message)\n",
    "smtp_server = data['SERVER']\n",
    "send = data['SEND'] in ['true', 'True', 'yes', 'Yes']\n",
    "display = data['DISPLAY_RESULT'] in ['true', 'True', 'yes', 'Yes']\n",
    "seed = data['RNG_SEED']"
   ]
  },
  {
   "cell_type": "markdown",
   "metadata": {},
   "source": [
    "#### Tell Santa all this information"
   ]
  },
  {
   "cell_type": "code",
   "execution_count": 3,
   "metadata": {},
   "outputs": [],
   "source": [
    "persons = make_dict_of_persons(names,contacts,exclusions,exclude_both_ways = exclude_both_ways)\n",
    "santa = Santa(persons)"
   ]
  },
  {
   "cell_type": "markdown",
   "metadata": {},
   "source": [
    "#### Let's have a look at this data"
   ]
  },
  {
   "cell_type": "code",
   "execution_count": 4,
   "metadata": {},
   "outputs": [
    {
     "name": "stdout",
     "output_type": "stream",
     "text": [
      "alice@wonderland.biz\n",
      "[Bill, Dave]\n"
     ]
    }
   ],
   "source": [
    "print(persons['Alice'].contact)\n",
    "print(persons['Bob'].exclusions)"
   ]
  },
  {
   "cell_type": "markdown",
   "metadata": {},
   "source": [
    "#### Santa makes a list"
   ]
  },
  {
   "cell_type": "code",
   "execution_count": 5,
   "metadata": {},
   "outputs": [
    {
     "name": "stdout",
     "output_type": "stream",
     "text": [
      "Assigned gifts:\n",
      "Bill ==> Charlie A\n",
      "Bob ==> Alice\n",
      "Alice ==> Dave\n",
      "Charlie A ==> Bob\n",
      "Timmy ==> Bill\n",
      "Charlie B ==> Timmy\n",
      "Dave ==> Charlie B\n"
     ]
    }
   ],
   "source": [
    "random.seed(seed) # Optionally seed the RNG with an integer \n",
    "gifts = santa.make_a_list()\n",
    "if display: santa.display()"
   ]
  },
  {
   "cell_type": "markdown",
   "metadata": {},
   "source": [
    "## Email each person the recipient for their gift"
   ]
  },
  {
   "cell_type": "markdown",
   "metadata": {},
   "source": [
    "#### Send messages"
   ]
  },
  {
   "cell_type": "code",
   "execution_count": 6,
   "metadata": {},
   "outputs": [
    {
     "name": "stdout",
     "output_type": "stream",
     "text": [
      "This will send the assigned secret santas to the gifters via email.\n",
      "You will be asked to confirm before the messages are sent.\n"
     ]
    },
    {
     "name": "stdin",
     "output_type": "stream",
     "text": [
      "Type the smtp.gmail.com email address to send from and press enter:  test@gmail.com\n",
      "Type your password and press enter:  ········\n"
     ]
    },
    {
     "name": "stdout",
     "output_type": "stream",
     "text": [
      "\n",
      "PREVIEW OF MESSAGE:\n",
      "========\n",
      "Subject:Secret santa - your giftee\n",
      "Hi {name},\n",
      "\n",
      "Your secret santa has been drawn! You have been assigned to give a gift to: {gift_reciever}\n",
      "\n",
      "This secret santa has been organised by a computer https://github.com/gdold/secretsanta\n",
      "\n",
      "Have a great solstice!\n",
      "========\n",
      "\n",
      "\n",
      "THIS MESSAGE WILL BE FORMATTED AND SENT TO:\n",
      "Bill <billy@bob.com>\n",
      "Bob <bob@billy.com>\n",
      "Alice <alice@wonderland.biz>\n",
      "Charlie A <charlie.thefirsttwin@email.com>\n",
      "Timmy <tim@tom.tam>\n",
      "Charlie B <charlie>\n",
      "Dave <david@d.de>\n"
     ]
    },
    {
     "name": "stdin",
     "output_type": "stream",
     "text": [
      "\n",
      "Proceed? [y/n]:  n\n"
     ]
    },
    {
     "name": "stdout",
     "output_type": "stream",
     "text": [
      "Emails not sent.\n"
     ]
    }
   ],
   "source": [
    "elves = Elves(persons,gifts,message,smtp_server)\n",
    "if send: elves.send_email()"
   ]
  }
 ],
 "metadata": {
  "kernelspec": {
   "display_name": "Python 3",
   "language": "python",
   "name": "python3"
  },
  "language_info": {
   "codemirror_mode": {
    "name": "ipython",
    "version": 3
   },
   "file_extension": ".py",
   "mimetype": "text/x-python",
   "name": "python",
   "nbconvert_exporter": "python",
   "pygments_lexer": "ipython3",
   "version": "3.7.3"
  }
 },
 "nbformat": 4,
 "nbformat_minor": 4
}
